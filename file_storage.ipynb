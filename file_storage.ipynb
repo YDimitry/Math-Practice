{
 "cells": [
  {
   "cell_type": "code",
   "execution_count": 4,
   "metadata": {
    "collapsed": true,
    "pycharm": {
     "is_executing": false
    }
   },
   "outputs": [],
   "source": [
    "import pandas as pd\n",
    "import matplotlib.pyplot as plt\n",
    "import seaborn as sns\n",
    "import datetime"
   ]
  },
  {
   "cell_type": "code",
   "execution_count": 39,
   "outputs": [
    {
     "name": "stdout",
     "text": [
      "      ProjectID  UserID uploadServerUnixTime  CompanyID   FileSize  \\\n1466     753919   27549  2020-03-02 10:02:11     753918  126318575   \n1791     753919   27549  2020-03-02 10:00:45     753918   19046039   \n1796     753919   27549  2020-03-02 09:31:13     753918     173803   \n\n                 TypeDocs     Day  Month  \n1466   7.Cмешанный проект  Monday  March  \n1791   7.Cмешанный проект  Monday  March  \n1796  3.Материалы для KYC  Monday  March  \n"
     ],
     "output_type": "stream"
    }
   ],
   "source": [
    "dateparse = lambda timestamp: datetime.datetime.fromtimestamp(int(timestamp))\n",
    "df=pd.read_csv('dataset_file_storage.csv',sep=';',parse_dates=['uploadServerUnixTime'],date_parser=dateparse)\n",
    "df['Day'] = df['uploadServerUnixTime'].dt.day_name()\n",
    "df['Month'] = df['uploadServerUnixTime'].dt.month_name()\n",
    "\n",
    "print(df[df.Month == 'March'].head())\n",
    "df.drop(df[df.Month == 'March'].index,inplace=True)\n",
    "# daily = df.sort_values(by='uploadServerUnixTime').set_index('uploadServerUnixTime')\n",
    "# a = daily.groupby(lambda x: (x.year, x.month, x.day)).count()\n",
    "# print(a.groupby(lambda x: (x[0],x[1])).count())"
   ],
   "metadata": {
    "collapsed": false,
    "pycharm": {
     "name": "#%%\n",
     "is_executing": false
    }
   }
  },
  {
   "cell_type": "markdown",
   "source": [
    "*ProjectID* (число) - id проекта в рамках которого загружен файл, привязка к элементам другой таблицы\n",
    "\n",
    "*UserID* (число) - id пользователя, загрузившего файл, привязка к элементам другой таблицы\n",
    "\n",
    "*uploadServerUnixTime* (число) - время загрузки файла на сервер в формате UnixTime\n",
    "\n",
    "*CompanyID* (число) - id организации которой принадлежит пользователь, привязка элемента другой таблицы\n",
    "\n",
    "*FileSize* (число) - размер файла в байтах\n",
    "\n",
    "*TypeDocs* (строка) - раздел в который загружен файл"
   ],
   "metadata": {
    "collapsed": false
   }
  },
  {
   "cell_type": "markdown",
   "source": [
    "## Задание №1\n",
    "#### Задание 1.1\n",
    "\n",
    "Постройте накопительный график/гистограмму суммарного объёма загруженных файлов по дням (используйте логарифмическую шкалу для объёма)."
   ],
   "metadata": {
    "collapsed": false
   }
  },
  {
   "cell_type": "code",
   "execution_count": null,
   "outputs": [],
   "source": [],
   "metadata": {
    "collapsed": false,
    "pycharm": {
     "name": "#%%\n"
    }
   }
  },
  {
   "cell_type": "markdown",
   "source": [
    "#### Задание 1.2\n",
    "\n",
    "Какой прогноз можно дать по объему файлового хранилища на конец 2020?"
   ],
   "metadata": {
    "collapsed": false
   }
  },
  {
   "cell_type": "code",
   "execution_count": null,
   "outputs": [],
   "source": [],
   "metadata": {
    "collapsed": false,
    "pycharm": {
     "name": "#%%\n"
    }
   }
  },
  {
   "cell_type": "markdown",
   "source": [
    "#### Задание 1.3\n",
    "\n",
    "На основании прогноза постройте накопительный график/гистограмму суммарного объёма загруженных файлов помесячно: первые месяцы будут реальные данные, а далее, начиная с марта - прогнозируемый объем. (Подсказка: для более точного прогноза месячного прироста суммарного объема файлов исключите из анализа месяцы с неполными данными.)"
   ],
   "metadata": {
    "collapsed": false
   }
  },
  {
   "cell_type": "code",
   "execution_count": null,
   "outputs": [],
   "source": [],
   "metadata": {
    "collapsed": false,
    "pycharm": {
     "name": "#%%\n"
    }
   }
  },
  {
   "cell_type": "markdown",
   "source": [
    "## Задание №2\n",
    "\n",
    "Постройте 2 гистограммы:\n",
    "\n",
    "Распределения количества файлов по дням недели\n",
    "Распределения количества файлов по часам"
   ],
   "metadata": {
    "collapsed": false
   }
  },
  {
   "cell_type": "code",
   "execution_count": null,
   "outputs": [],
   "source": [],
   "metadata": {
    "collapsed": false,
    "pycharm": {
     "name": "#%%\n"
    }
   }
  },
  {
   "cell_type": "markdown",
   "source": [
    "#### Задание 2.1 (дополнительное для отличников)\n",
    "\n",
    "На основании построенных гистограмм какие выводы можно сделать?"
   ],
   "metadata": {
    "collapsed": false
   }
  },
  {
   "cell_type": "code",
   "execution_count": null,
   "outputs": [],
   "source": [],
   "metadata": {
    "collapsed": false,
    "pycharm": {
     "name": "#%%\n"
    }
   }
  },
  {
   "cell_type": "markdown",
   "source": [
    "## Задание №3\n",
    "\n",
    "Постройте 2 гистограммы:\n",
    "\n",
    "Распределения количества файлов в зависимости от раздела.\n",
    "Постройте ящики с усами для среднего количества файлов в проекте в зависимости от раздела."
   ],
   "metadata": {
    "collapsed": false
   }
  },
  {
   "cell_type": "code",
   "execution_count": null,
   "outputs": [],
   "source": [],
   "metadata": {
    "collapsed": false,
    "pycharm": {
     "name": "#%%\n"
    }
   }
  },
  {
   "cell_type": "markdown",
   "source": [
    "#### Задание 3.1 (дополнительное для отличников)\n",
    "\n",
    "Какие рекомендации можно дать по создания/удалению разделов?"
   ],
   "metadata": {
    "collapsed": false
   }
  },
  {
   "cell_type": "code",
   "execution_count": null,
   "outputs": [],
   "source": [],
   "metadata": {
    "collapsed": false,
    "pycharm": {
     "name": "#%%\n"
    }
   }
  },
  {
   "cell_type": "markdown",
   "source": [
    "## Задание №4\n",
    "\n",
    "Постройте гистограмму суммарного объёма файлов по проектам (используйте логарифмическую шкалу для объёма)."
   ],
   "metadata": {
    "collapsed": false
   }
  },
  {
   "cell_type": "code",
   "execution_count": null,
   "outputs": [],
   "source": [],
   "metadata": {
    "collapsed": false,
    "pycharm": {
     "name": "#%%\n"
    }
   }
  },
  {
   "cell_type": "markdown",
   "source": [
    "## Задание №5\n",
    "\n",
    "Постройте ящики с усами для размеров загружаемых файлов по компаниям."
   ],
   "metadata": {
    "collapsed": false
   }
  },
  {
   "cell_type": "code",
   "execution_count": null,
   "outputs": [],
   "source": [],
   "metadata": {
    "collapsed": false,
    "pycharm": {
     "name": "#%%\n"
    }
   }
  },
  {
   "cell_type": "markdown",
   "source": [
    "#### Задание 5.1 (дополнительное для отличников)\n",
    "\n",
    "Можно ли сделать какие-то выводы о предпочтениях к большим/маленьким файлам в разных компаниях? Можно ли сделать практически полезные выводы для администраторов сервиса загрузки?"
   ],
   "metadata": {
    "collapsed": false
   }
  },
  {
   "cell_type": "code",
   "execution_count": null,
   "outputs": [],
   "source": [],
   "metadata": {
    "collapsed": false,
    "pycharm": {
     "name": "#%%\n"
    }
   }
  },
  {
   "cell_type": "markdown",
   "source": [
    "## Задание №6\n",
    "\n",
    "Какие ещё графики вы построили для этих данных и какой вывод из этой иллюстрации можно сделать? Постройте ещё хотя бы 1 любой график/гистограмму/боксплот или иную иллюстрацию."
   ],
   "metadata": {
    "collapsed": false
   }
  },
  {
   "cell_type": "code",
   "execution_count": null,
   "outputs": [],
   "source": [],
   "metadata": {
    "collapsed": false,
    "pycharm": {
     "name": "#%%\n"
    }
   }
  }
 ],
 "metadata": {
  "kernelspec": {
   "display_name": "Python 3",
   "language": "python",
   "name": "python3"
  },
  "language_info": {
   "codemirror_mode": {
    "name": "ipython",
    "version": 2
   },
   "file_extension": ".py",
   "mimetype": "text/x-python",
   "name": "python",
   "nbconvert_exporter": "python",
   "pygments_lexer": "ipython2",
   "version": "2.7.6"
  },
  "pycharm": {
   "stem_cell": {
    "cell_type": "raw",
    "source": [],
    "metadata": {
     "collapsed": false
    }
   }
  }
 },
 "nbformat": 4,
 "nbformat_minor": 0
}