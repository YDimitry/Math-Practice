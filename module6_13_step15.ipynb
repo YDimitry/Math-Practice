{
 "cells": [
  {
   "cell_type": "code",
   "execution_count": null,
   "outputs": [],
   "source": [
    "import numpy as np\n",
    "import matplotlib.pyplot as plt\n",
    "from matplotlib.ticker import AutoMinorLocator\n",
    "\n",
    "# matplotlib.use(\"Agg\")\n",
    "# import matplotlib.pyplot as plt\n",
    "# from matplotlib.animation import FFMpegWriter\n",
    "\n",
    "# Fixing random state for reproducibility\n",
    "# np.random.seed(19680801)\n",
    "\n",
    "\n",
    "# metadata = dict(title='Movie Test', artist='Matplotlib',\n",
    "#                 comment='Movie support!')\n",
    "# writer = FFMpegWriter(fps=15, metadata=metadata)\n",
    "# \n",
    "# fig = plt.figure()\n",
    "# l, = plt.plot([], [], 'k-o')\n",
    "# \n",
    "# plt.xlim(-5, 5)\n",
    "# plt.ylim(-5, 5)\n",
    "# \n",
    "# x0, y0 = 0, 0\n",
    "# \n",
    "# with writer.saving(fig, \"writer_test.mp4\", 100):\n",
    "#     for i in range(100):\n",
    "#         x0 += 0.1 * np.random.randn()\n",
    "#         y0 += 0.1 * np.random.randn()\n",
    "#         l.set_data(x0, y0)\n",
    "#         writer.grab_frame()"
   ],
   "metadata": {
    "collapsed": false,
    "pycharm": {
     "name": "#%%\n",
     "is_executing": true
    }
   }
  },
  {
   "cell_type": "code",
   "execution_count": 22,
   "outputs": [],
   "source": [
    "m = np.array([(0,1), (1,1), (2,25), (-1,1), (-2,-23), (0.5,0.90625)])\n",
    "n = m.shape[0]\n",
    "x = np.tile(m[:,:-1],(1,n))\n",
    "a = np.tile(np.arange(n), (n,1))\n",
    "c = np.linalg.solve(x**a, m[:,-1])\n",
    "\n",
    "def f(x, c):\n",
    "    return sum([c_i * x**n for n, c_i in enumerate(c)])"
   ],
   "metadata": {
    "collapsed": false,
    "pycharm": {
     "name": "#%%\n",
     "is_executing": false
    }
   }
  },
  {
   "cell_type": "code",
   "execution_count": 24,
   "outputs": [
    {
     "data": {
      "text/plain": "<Figure size 432x288 with 1 Axes>",
      "image/png": "[encoded data removed]"
     },
     "metadata": {
      "needs_background": "light"
     },
     "output_type": "display_data"
    }
   ],
   "source": [
    "x=np.arange(-1.2,0.1,0.01) #Массив значений аргумента\n",
    "plt.plot(x, f(x, c)) #Построение графика\n",
    "plt.xlabel(r'$x$') #Метка по оси x в формате TeX\n",
    "plt.ylabel(r'$f(x)$') #Метка по оси y в формате TeX\n",
    "plt.grid(True) #Сетка\n",
    "plt.show() #Показать график\n"
   ],
   "metadata": {
    "collapsed": false,
    "pycharm": {
     "name": "#%%\n",
     "is_executing": false
    }
   }
  }
 ],
 "metadata": {
  "kernelspec": {
   "display_name": "Python 3",
   "language": "python",
   "name": "python3"
  },
  "language_info": {
   "codemirror_mode": {
    "name": "ipython",
    "version": 2
   },
   "file_extension": ".py",
   "mimetype": "text/x-python",
   "name": "python",
   "nbconvert_exporter": "python",
   "pygments_lexer": "ipython2",
   "version": "2.7.6"
  },
  "pycharm": {
   "stem_cell": {
    "cell_type": "raw",
    "source": [],
    "metadata": {
     "collapsed": false
    }
   }
  }
 },
 "nbformat": 4,
 "nbformat_minor": 0
}