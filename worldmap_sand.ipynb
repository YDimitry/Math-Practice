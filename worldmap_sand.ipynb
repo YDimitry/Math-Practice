{
 "cells": [
  {
   "cell_type": "code",
   "execution_count": 146,
   "metadata": {
    "pycharm": {
     "is_executing": false
    }
   },
   "outputs": [],
   "source": [
    "import matplotlib.pyplot as plt\n",
    "import matplotlib.image as mpimg\n",
    "import matplotlib.markers as mark\n",
    "import pandas as pd\n",
    "import math\n",
    "import numpy as np\n",
    "\n",
    "\n",
    "# %matplotlib inline\n",
    "from matplotlib.lines import Line2D\n",
    "\n",
    "cities = pd.read_csv('cities.csv')\n",
    "cities = cities[cities['Population']>1e6]\n",
    "\n",
    "wmap = mpimg.imread('Mercator_projection_Square.png')\n",
    "height,width,c = wmap.shape\n",
    "\n",
    "def conv_coord(c):\n",
    "    deg,min,sec = c\n",
    "    return deg + min/60 + sec/3600\n",
    "\n",
    "r = width/2/math.pi\n",
    "\n",
    "def merc_x(lon):\n",
    "    return width/2 + r * math.radians(lon)\n",
    "\n",
    "def merc_y(lat):\n",
    "    phi = math.radians(lat)\n",
    "    return height/2 - r * math.atanh(math.sin(phi))\n",
    "\n",
    "def cap_marker(v):    \n",
    "    marker_obj = mark.MarkerStyle(v and '*' or 'o')\n",
    "    return  marker_obj.get_path().transformed(marker_obj.get_transform())\n",
    "\n",
    "\n",
    "cities['y'] = cities[['Longitude deg','Longitude min','Longitude sec']].apply(lambda s: merc_y(conv_coord(s)), axis=1)\n",
    "cities['x'] = cities[['Latitude deg','Latitude min','Latitude sec']].apply(lambda s: merc_x(conv_coord(s)), axis=1)\n",
    "cities['Marks'] = cities['Capital'].map(cap_marker)\n",
    "# print(cities[['Name','Mark']])\n",
    "\n",
    "\n",
    "# col =  cycle('bgrcmk')\n"
   ]
  },
  {
   "cell_type": "code",
   "execution_count": 147,
   "metadata": {
    "pycharm": {
     "is_executing": false,
     "name": "#%%\n"
    }
   },
   "outputs": [],
   "source": [
    "# wmap = mpimg.imread('contour_political_map_mercator.png')\n",
    "\n",
    "# plt.figure(figsize=(23.8,19.8),dpi=130)\n",
    "fig,ax = plt.subplots(figsize=(15,15),dpi=96)\n",
    "ax.imshow(wmap)\n",
    "ax.axis('off')\n",
    "# ax.plot([width//2,width//2], [0,height], 'r', lw=0.5) # 0 меридиан\n",
    "# ax.plot( [0,width],[height//2,height//2], 'r', lw=0.5) # экватор\n",
    "\n",
    "# ax.set_xlim(0,width)\n",
    "# ax.set_ylim(height,0)\n",
    "\n",
    "# print(merc(59.9311,30.3609,width, height))\n",
    "# print(width//2+w_corr, height//2+h_corr)\n",
    "# for i, city in cities.iterrows():\n",
    "    # print(city['Name'],coord(city))\n",
    "    # ax.plot(*merc(coord(city),width, height), 'r*', markersize=5)\n",
    "# ax.plot(*merc(0,0,width, height), 'r*', markersize=5)\n",
    "# merc(0,0,width-5, height-144)\n",
    "\n",
    "# palette = plt.get_cmap('Set1')\n",
    "legend_el = []\n",
    "\n",
    "for country, cites in cities.groupby('Country'):\n",
    "    # print(country, i)\n",
    "    # color=palette(i)\n",
    "    # print(cites['Mark'])\n",
    "    # c = np.tile(np.random.rand(),len(cites))   \n",
    "    # print(c)\n",
    "    # paths = []\n",
    "    # for marker in cites['Mark']:        \n",
    "    #     marker_obj = mark.MarkerStyle(marker)\n",
    "    #     path = marker_obj.get_path().transformed(marker_obj.get_transform())\n",
    "    #     paths.append(path)\n",
    "    # ax.plot(cites['x'],cites['y'],lw=0, label=country,color=palette(i), marker='o')\n",
    "    sc = ax.scatter(cites['x'],cites['y'])\n",
    "    # print(cites['Mark'])\n",
    "    sc.set_paths(cites['Marks'].to_numpy())\n",
    "    col = sc.get_facecolors()[0]\n",
    "    # print(col)\n",
    "    # ,c=c, cmap='viridis'\n",
    "    legend_el.append(Line2D([0], [0], ls='None', marker='o', label=country, c=col ,ms=15))\n",
    "    # color = next(col)\n",
    "    # for i, city in cites.iterrows():\n",
    "        # print(city[['lat','lon']].to_numpy())\n",
    "        # ax.plot(*merc(city[['lat','lon']].to_numpy(),width, height),color=color,marker=city['Mark'],label=country, markersize=5)\n",
    "\n",
    "plt.legend(handles=legend_el)\n",
    "# handles, labels = sc.legend_elements()\n",
    "# legend2 = ax.legend(handles, labels)\n",
    "# ax.legend(*sc.legend_elements(),loc=\"lower left\", title=\"Classes\")\n",
    "\n",
    "plt.savefig('books_read.png')\n",
    "\n"
   ]
  },
  {
   "cell_type": "code",
   "execution_count": null,
   "outputs": [],
   "source": [
    "def mscatter(x,y, ax=None, m=None, **kw):\n",
    "    import matplotlib.markers as mmarkers\n",
    "    ax = ax or plt.gca()\n",
    "    sc = ax.scatter(x,y,**kw)\n",
    "    if (m is not None) and (len(m)==len(x)):\n",
    "        paths = []\n",
    "        for marker in m:\n",
    "            if isinstance(marker, mmarkers.MarkerStyle):\n",
    "                marker_obj = marker\n",
    "            else:\n",
    "                marker_obj = mmarkers.MarkerStyle(marker)\n",
    "            path = marker_obj.get_path().transformed(marker_obj.get_transform())\n",
    "            paths.append(path)\n",
    "        # sc.set_paths(paths)\n",
    "    return sc\n",
    "\n",
    "fig = plt.figure()\n",
    "ax = fig.add_subplot()\n",
    "\n",
    "xs = [1,2,3]\n",
    "ys = [2,4,1]\n",
    "zs = [1,5,2]\n",
    "c = [250,600,400]\n",
    "m = [\"*\", \"o\", \"s\"]\n",
    "\n",
    "ax = plt.gca()\n",
    "sc = ax.scatter(xs,ys,c=c, s=100)\n",
    "\n",
    "\n",
    "paths = []\n",
    "for marker in m:\n",
    "    marker_obj = mark.MarkerStyle(marker)\n",
    "    path = marker_obj.get_path().transformed(marker_obj.get_transform())\n",
    "    paths.append(path)\n",
    "    \n",
    "sc.set_paths(paths)\n",
    "# mscatter(xs, ys,  ax=ax, m=m, c=c, s=100)\n",
    "\n",
    "plt.show()\n"
   ],
   "metadata": {
    "collapsed": false,
    "pycharm": {
     "name": "#%%\n",
     "is_executing": false
    }
   }
  }
 ],
 "metadata": {
  "kernelspec": {
   "display_name": "Python 3",
   "language": "python",
   "name": "python3"
  },
  "language_info": {
   "codemirror_mode": {
    "name": "ipython",
    "version": 3
   },
   "file_extension": ".py",
   "mimetype": "text/x-python",
   "name": "python",
   "nbconvert_exporter": "python",
   "pygments_lexer": "ipython3",
   "version": "3.8.0"
  },
  "pycharm": {
   "stem_cell": {
    "cell_type": "raw",
    "source": [],
    "metadata": {
     "collapsed": false
    }
   }
  }
 },
 "nbformat": 4,
 "nbformat_minor": 1
}