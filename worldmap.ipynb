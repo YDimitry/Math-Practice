{
 "cells": [
  {
   "cell_type": "code",
   "execution_count": null,
   "metadata": {
    "pycharm": {
     "is_executing": false
    }
   },
   "outputs": [],
   "source": [
    "from itertools import cycle\n",
    "import matplotlib.pyplot as plt\n",
    "import matplotlib.image as mpimg\n",
    "import pandas as pd\n",
    "import math\n",
    "import numpy as np\n",
    "\n",
    "\n",
    "%matplotlib inline\n",
    "\n",
    "cities = pd.read_csv('cities.csv')\n",
    "cities = cities[cities['Population']>1e6]\n",
    "\n",
    "def conv_coord(c):\n",
    "    deg,min,sec = c\n",
    "    return deg + min/60 + sec/3600\n",
    "\n",
    "r = 2058/2/math.pi\n",
    "\n",
    "def merc_x(lon):\n",
    "    return 2058/2 + r * math.radians(lon)\n",
    "\n",
    "def merc_y(lat):\n",
    "    phi = math.radians(lat)\n",
    "    return 2058/2 - r * math.atanh(math.sin(phi))\n",
    "\n",
    "cities['y'] = cities[['Longitude deg','Longitude min','Longitude sec']].apply(lambda s: merc_y(conv_coord(s)), axis=1)\n",
    "cities['x'] = cities[['Latitude deg','Latitude min','Latitude sec']].apply(lambda s: merc_x(conv_coord(s)), axis=1)\n",
    "cities['Mark'] = cities['Capital'].map(lambda v: v and '*' or 'o')\n",
    "# print(cities[['Name','x','y']])\n",
    "\n",
    "\n",
    "col =  cycle('bgrcmk')\n"
   ]
  },
  {
   "cell_type": "code",
   "execution_count": null,
   "metadata": {
    "pycharm": {
     "is_executing": false,
     "name": "#%%\n"
    }
   },
   "outputs": [],
   "source": [
    "# wmap = mpimg.imread('contour_political_map_mercator.png')\n",
    "wmap = mpimg.imread('Mercator_projection_Square.png')\n",
    "height,width,c = wmap.shape\n",
    "# plt.figure(figsize=(23.8,19.8),dpi=130)\n",
    "fig,ax = plt.subplots(figsize=(15,15),dpi=96)\n",
    "ax.imshow(wmap)\n",
    "ax.axis('off')\n",
    "# ax.plot([width//2,width//2], [0,height], 'r', lw=0.5) # 0 меридиан\n",
    "# ax.plot( [0,width],[height//2,height//2], 'r', lw=0.5) # экватор\n",
    "\n",
    "# ax.set_xlim(0,width)\n",
    "# ax.set_ylim(height,0)\n",
    "\n",
    "# print(merc(59.9311,30.3609,width, height))\n",
    "# print(width//2+w_corr, height//2+h_corr)\n",
    "# for i, city in cities.iterrows():\n",
    "    # print(city['Name'],coord(city))\n",
    "    # ax.plot(*merc(coord(city),width, height), 'r*', markersize=5)\n",
    "# ax.plot(*merc(0,0,width, height), 'r*', markersize=5)\n",
    "# merc(0,0,width-5, height-144)\n",
    "for country, cites in cities.groupby('Country'):\n",
    "    # print(country,next(col))\n",
    "    # print(cites[['Name','x','y']])\n",
    "    plt.scatter(cites['x'],cites['y'],label=country,color='r',marker=cites['Mark'])\n",
    "    # color = next(col)\n",
    "    # for i, city in cites.iterrows():\n",
    "        # print(city[['lat','lon']].to_numpy())\n",
    "        # ax.plot(*merc(city[['lat','lon']].to_numpy(),width, height),color=color,marker=city['Mark'],label=country, markersize=5)\n",
    "\n",
    "# plt.legend()\n",
    "plt.savefig('books_read.png')\n",
    "# plt.show()\n",
    "\n"
   ]
  }
 ],
 "metadata": {
  "kernelspec": {
   "display_name": "Python 3",
   "language": "python",
   "name": "python3"
  },
  "language_info": {
   "codemirror_mode": {
    "name": "ipython",
    "version": 3
   },
   "file_extension": ".py",
   "mimetype": "text/x-python",
   "name": "python",
   "nbconvert_exporter": "python",
   "pygments_lexer": "ipython3",
   "version": "3.8.0"
  },
  "pycharm": {
   "stem_cell": {
    "cell_type": "raw",
    "metadata": {
     "collapsed": false
    },
    "source": []
   }
  }
 },
 "nbformat": 4,
 "nbformat_minor": 1
}
