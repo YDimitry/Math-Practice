{
 "cells": [
  {
   "cell_type": "code",
   "execution_count": 50,
   "metadata": {
    "pycharm": {
     "is_executing": false
    }
   },
   "outputs": [],
   "source": [
    "import matplotlib.pyplot as plt\n",
    "import matplotlib.image as mpimg\n",
    "import matplotlib.markers as mark\n",
    "from matplotlib.lines import Line2D\n",
    "import pandas as pd\n",
    "import math\n",
    "\n",
    "%matplotlib inline\n",
    "\n",
    "cities = pd.read_csv('cities.csv')\n",
    "cities = cities[cities['Population']>1e6]\n",
    "\n",
    "wmap = mpimg.imread('Mercator_projection_Square.png')\n",
    "height,width,c = wmap.shape\n",
    "\n",
    "def conv_coord(dms):\n",
    "    deg,min,sec = dms\n",
    "    return deg + min/60 + sec/3600\n",
    "\n",
    "r = width/2/math.pi\n",
    "\n",
    "def merc_x(lon):\n",
    "    return width/2 + r * math.radians(conv_coord(lon))\n",
    "\n",
    "def merc_y(lat):\n",
    "    phi = math.radians(conv_coord(lat))\n",
    "    return height/2 - r * math.atanh(math.sin(phi))\n",
    "\n",
    "def city_marker(v):    \n",
    "    marker_obj = mark.MarkerStyle(v and '*' or 'o')\n",
    "    return  marker_obj.get_path().transformed(marker_obj.get_transform())\n",
    "\n",
    "\n",
    "cities['y'] = cities[['Longitude deg','Longitude min','Longitude sec']].apply(merc_y, axis=1)\n",
    "cities['x'] = cities[['Latitude deg','Latitude min','Latitude sec']].apply(merc_x, axis=1)\n",
    "cities['Marks'] = cities['Capital'].map(city_marker)"
   ]
  },
  {
   "cell_type": "code",
   "execution_count": 51,
   "metadata": {
    "pycharm": {
     "is_executing": false,
     "name": "#%%\n"
    }
   },
   "outputs": [],
   "source": [
    "fig,ax = plt.subplots(figsize=(15,15),dpi=96)\n",
    "ax.imshow(wmap)\n",
    "ax.axis('off')\n",
    "\n",
    "legend_el = []\n",
    "\n",
    "for country, c_cities in cities.groupby('Country'):\n",
    "    sc = ax.scatter(c_cities['x'],c_cities['y'])\n",
    "    sc.set_paths(c_cities['Marks'].to_numpy())\n",
    "    color = sc.get_facecolors()[0]\n",
    "    legend_el.append(Line2D([0], [0], ls='None', marker='o', label=country, c=color ,ms=15))\n",
    "\n",
    "plt.legend(handles=legend_el)\n",
    "# plt.savefig('wmap.png')\n",
    "plt.show()\n"
   ]
  }
 ],
 "metadata": {
  "kernelspec": {
   "display_name": "Python 3",
   "language": "python",
   "name": "python3"
  },
  "language_info": {
   "codemirror_mode": {
    "name": "ipython",
    "version": 3
   },
   "file_extension": ".py",
   "mimetype": "text/x-python",
   "name": "python",
   "nbconvert_exporter": "python",
   "pygments_lexer": "ipython3",
   "version": "3.8.0"
  },
  "pycharm": {
   "stem_cell": {
    "cell_type": "raw",
    "source": [],
    "metadata": {
     "collapsed": false
    }
   }
  }
 },
 "nbformat": 4,
 "nbformat_minor": 1
}