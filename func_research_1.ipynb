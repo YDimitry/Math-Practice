{
 "cells": [
  {
   "cell_type": "code",
   "execution_count": 1,
   "metadata": {
    "collapsed": true,
    "pycharm": {
     "is_executing": false
    }
   },
   "outputs": [],
   "source": [
    "import numpy as np\n",
    "import matplotlib.pyplot as plt\n",
    "from matplotlib.ticker import (MultipleLocator, FormatStrFormatter,\n",
    "                               AutoMinorLocator)\n",
    "\n",
    "f = lambda x: lambda alpha, beta: (pow(x,beta) + pow(alpha,beta)) / pow(x,beta)\n",
    "\n",
    "y1_c, y2_c, y3_c, y4_c, y5_c, y6_c = 'rbgcmy'\n",
    "\n",
    "# b : blue.\n",
    "# g : green.\n",
    "# r : red.\n",
    "# c : cyan.\n",
    "# m : magenta.\n",
    "# y : yellow.\n",
    "# k : black.\n",
    "# w : white."
   ]
  },
  {
   "cell_type": "markdown",
   "source": [
    "## Задача №1 \n",
    "### часть 1"
   ],
   "metadata": {
    "collapsed": false
   }
  },
  {
   "cell_type": "code",
   "execution_count": 2,
   "outputs": [],
   "source": [
    "\n",
    "x = np.arange(-5,5,0.01)\n",
    "\n",
    "y1 = np.ma.masked_outside(f(x)(1,1),-50,50)\n",
    "y2 = np.ma.masked_outside(f(x)(2,1),-50,50)\n",
    "y3 = np.ma.masked_greater(f(x)(1,2), 50)\n",
    "\n",
    "fig, ax = plt.subplots(figsize=(10,10))\n",
    "ax.plot(x,y1, y1_c, label=r'$\\alpha=1,\\beta=1$') \n",
    "ax.plot(x,y2, y2_c, label=r'$\\alpha=2,\\beta=1$')\n",
    "ax.plot(x,y3, y3_c, label=r'$\\alpha=1,\\beta=2$')\n",
    "ax.set_title(r'График функции $f(x)=\\frac{x^\\beta+\\alpha^\\beta}{x^\\beta}$ при различных $\\alpha$ и $\\beta$', fontsize=18)\n",
    "ax.set_xlabel('$x$', fontsize=18)\n",
    "ax.set_ylabel('$f(x)$', fontsize=18)\n",
    "\n",
    "ax.grid()\n",
    "ax.legend()\n",
    "ax.yaxis.set_minor_locator(AutoMinorLocator())\n",
    "# plt.savefig('fig1.svg')\n",
    "plt.show()"
   ],
   "metadata": {
    "collapsed": false,
    "pycharm": {
     "name": "#%%\n",
     "is_executing": false
    }
   }
  },
  {
   "cell_type": "markdown",
   "source": [
    "### часть 2"
   ],
   "metadata": {
    "collapsed": false
   }
  },
  {
   "cell_type": "code",
   "execution_count": 3,
   "outputs": [],
   "source": [
    "fig, ax = plt.subplots(figsize=(10,10))\n",
    "x_gt = np.ma.masked_less(x,0)\n",
    "y1_gt = np.ma.masked_less(y1,0)\n",
    "y2_gt = np.ma.masked_less(y2,0)\n",
    "y3_gt = np.ma.masked_less(y3,0)\n",
    "\n",
    "ax.plot(x_gt,y1_gt, y1_c, label=r'$\\alpha=1,\\beta=1$') \n",
    "ax.plot(x_gt,y2_gt, y2_c, label=r'$\\alpha=2,\\beta=1$')\n",
    "ax.plot(x_gt,y3_gt, y3_c, label=r'$\\alpha=1,\\beta=2$')\n",
    "ax.set_title(r'График функции $f(x)=\\frac{x^\\beta+\\alpha^\\beta}{x^\\beta}$ при различных $\\alpha$ и $\\beta$'+'\\nдля $x>0$', fontsize=18)\n",
    "ax.set_xlabel(r'$x$', fontsize=18)\n",
    "ax.set_ylabel('$f(x)$', fontsize=18)\n",
    "\n",
    "x_small = np.ma.masked_equal(np.linspace(0,1.5,200),0)\n",
    "y1_1 = f(x_small)(1,1)\n",
    "y2_1 = f(x_small)(2,1)\n",
    "y3_1 = f(x_small)(1,2)\n",
    "\n",
    "ax1 = fig.add_axes([0.3, 0.6, 0.4, 0.2])\n",
    "ax1.plot(x_small,np.ma.masked_greater(y1_1,6), y1_c)\n",
    "ax1.plot(x_small,np.ma.masked_greater(y2_1,6), y2_c)\n",
    "ax1.plot(x_small,np.ma.masked_greater(y3_1,6), y3_c)\n",
    "ax1.set_title(r'для малых $x$')\n",
    "ax1.set_xlabel(r'$x$')\n",
    "ax1.set_ylabel(r'$f(x)$')\n",
    "\n",
    "x_large = np.ma.masked_equal(np.linspace(0,10000,500),0)\n",
    "y1_2 = f(x_large)(1,1)\n",
    "y2_2 = f(x_large)(2,1)\n",
    "y3_2 = f(x_large)(1,2)\n",
    "ax2 = fig.add_axes([0.3, 0.3, 0.4, 0.2])\n",
    "\n",
    "ax2.plot(x_large,np.ma.masked_greater(y1_2,1.0007), y1_c)\n",
    "ax2.plot(x_large,np.ma.masked_greater(y2_2,1.0007), y2_c)\n",
    "ax2.plot(x_large,np.ma.masked_greater(y3_2,1.0007), y3_c)\n",
    "ax2.set_title(r'для больших $x$')\n",
    "ax2.set_xlabel(r'$x$')\n",
    "ax2.set_ylabel(r'$f(x)$')\n",
    "ax2.ticklabel_format(useOffset=False)\n",
    "\n",
    "ax.grid()\n",
    "ax.legend()\n",
    "ax.xaxis.set_minor_locator(AutoMinorLocator())\n",
    "ax.yaxis.set_minor_locator(AutoMinorLocator())\n",
    "# plt.savefig('fig2.svg')\n",
    "plt.show()"
   ],
   "metadata": {
    "collapsed": false,
    "pycharm": {
     "name": "#%%\n",
     "is_executing": false
    }
   }
  },
  {
   "cell_type": "markdown",
   "source": [
    "### часть 3"
   ],
   "metadata": {
    "collapsed": false
   }
  },
  {
   "cell_type": "code",
   "execution_count": 4,
   "outputs": [],
   "source": [
    "fig, ax = plt.subplots(figsize=(10,10))\n",
    "x_lt = np.ma.masked_greater(x,0)\n",
    "y1_lt = np.ma.masked_outside(y1,1,-2)\n",
    "y2_lt = np.ma.masked_outside(y2,-2,1)\n",
    "y3_lt = np.ma.masked_outside(y3,5,0)\n",
    "\n",
    "ax.plot(x_lt,y1_lt, y1_c, label=r'$\\alpha=1,\\beta=1$') \n",
    "ax.plot(x_lt,y2_lt, y2_c, label=r'$\\alpha=2,\\beta=1$')\n",
    "ax.plot(x_lt,y3_lt, y3_c, label=r'$\\alpha=1,\\beta=2$')\n",
    "ax.plot([0,-5],[0,0], 'k', label=r'$f(x) = 0$')\n",
    "ax.set_title(r'График функции $f(x)=\\frac{x^\\beta+\\alpha^\\beta}{x^\\beta}$ при различных $\\alpha$ и $\\beta$'+'\\nдля $x<0$', fontsize=18)\n",
    "ax.set_xlabel('$x$', fontsize=18)\n",
    "ax.set_ylabel('$f(x)$', fontsize=18)\n",
    "\n",
    "ax1 = fig.add_axes([0.35, 0.65, 0.35, 0.2])\n",
    "x_neg_large = np.ma.masked_equal(np.linspace(-10000,0,500),0)\n",
    "\n",
    "\n",
    "y1_2 = f(x_neg_large)(1,1)\n",
    "y2_2 = f(x_neg_large)(2,1)\n",
    "y3_2 = f(x_neg_large)(1,2)\n",
    "ax1.plot(x_neg_large,np.ma.masked_less(y1_2,-0.99), y1_c)\n",
    "ax1.plot(x_neg_large,np.ma.masked_less(y2_2,-0.99), y2_c)\n",
    "ax1.plot(x_neg_large,np.ma.masked_greater(y3_2,1.005), y3_c)\n",
    "# ax1.plot([0,-10000],[0,0], 'k', label=r'$f(x) = 0$')\n",
    "ax1.set_title(r'для $x\\to -\\infty$')\n",
    "ax1.set_xlabel(r'$x$')\n",
    "ax1.set_ylabel(r'$f(x)$')\n",
    "\n",
    "ax.grid()\n",
    "ax.legend()\n",
    "ax.xaxis.set_minor_locator(AutoMinorLocator())\n",
    "ax.yaxis.set_minor_locator(AutoMinorLocator())\n",
    "# plt.savefig('fig3.svg')\n",
    "plt.show()"
   ],
   "metadata": {
    "collapsed": false,
    "pycharm": {
     "name": "#%%\n",
     "is_executing": false
    }
   }
  },
  {
   "cell_type": "markdown",
   "source": [
    "### Выводы\n",
    "* чем больше $\\beta$ тем быстрее возрастает/убывает функция, т.к. производная больше. \n",
    "Поэтому при малых положительных $x$ функция с большим $\\beta$ (на графике зеленая) пересекает функции\n",
    "с меньшим \n",
    "* При четных $\\beta$ значение фукции всегда положительно \n",
    "(при малых $x$ как положительных так и отридцательных функция стремится к $+\\infty$)\n",
    "* При нечетных $\\beta$ функция вблизи нуля будет разнонаправлена\n",
    "(при отридцательных малых $x$ функция стемится к к $-\\infty$\n",
    "при положительных к $+\\infty$)\n",
    "поэтому при отридцательных $x$ функции с четными и нечетными $\\beta$ никогда не пересекутся\n",
    "* $\\alpha$ определяет смещение функции по оси ординат\n",
    "* для больших $x$ как положительных так и отридцательных влияние $\\alpha$ и $\\beta$ незначительно, \n",
    "поэтому при $x\\to\\pm\\infty$ все кривые стремятся к 1\n"
   ],
   "metadata": {
    "collapsed": false
   }
  },
  {
   "cell_type": "markdown",
   "source": [
    "## Задача №2"
   ],
   "metadata": {
    "collapsed": false,
    "pycharm": {
     "name": "#%% md\n"
    }
   }
  },
  {
   "cell_type": "code",
   "execution_count": 5,
   "outputs": [],
   "source": [
    "fig, ax = plt.subplots(figsize=(10,10))\n",
    "x_lin = np.arange(-2,3,0.2)\n",
    "ax.plot(x_lin,f(x_lin)(1,0), y1_c, label=r'$\\alpha=1,\\beta=0$') \n",
    "ax.plot(x_lin,f(x_lin)(0,0), y2_c, dashes=(5, 10), label=r'$\\alpha=0,\\beta=0$')\n",
    "ax.plot(x_lin,f(x_lin)(0,1), y3_c, label=r'$\\alpha=0,\\beta=1$')\n",
    "ax.plot(x_lin,f(x_lin)(0,2), y6_c, dashes=(5, 10), label=r'$\\alpha=0,\\beta=2$')\n",
    "ax.plot(x_lin,f(x_lin)(1,-1), y5_c, label=r'$\\alpha=1,\\beta=-1$')\n",
    "ax.plot(x_lin,f(x_lin)(2,-1), y4_c, label=r'$\\alpha=2,\\beta=-1$')\n",
    "\n",
    "\n",
    "ax.set_title(r'График функции $f(x)=\\frac{x^\\beta+\\alpha^\\beta}{x^\\beta}$ при различных $\\alpha$ и $\\beta$', fontsize=18)\n",
    "ax.set_xlabel('$x$', fontsize=18)\n",
    "ax.set_ylabel('$f(x)$', fontsize=18)\n",
    "\n",
    "ax.grid()\n",
    "ax.legend()\n",
    "# plt.savefig('fig4.svg')\n",
    "plt.show()"
   ],
   "metadata": {
    "collapsed": false,
    "pycharm": {
     "name": "#%%\n",
     "is_executing": false
    }
   }
  },
  {
   "cell_type": "markdown",
   "source": [
    "### Выводы\n",
    "* При $\\beta=0$ и при любом $\\alpha$ функция принимает вид линейной с нулевым коэффициентом наклона, т.е константа.\n",
    "Поскольку любое число в нулевой степени кроме $0$ равно $1$, значение функции\n",
    "всегда будет постоянно и равно $2$ (красный график и пунктирный синий)\n",
    "* При $\\alpha=0$ при любом $\\beta>0$ значение функции так же константа и равна $1$ поскольку $0$\n",
    "в любой степени кроме $0$ равен нулю (зеленый график и пунктирный желтый)\n",
    "* При $\\beta=-1$ и $\\alpha>0$ функция принимает вид линейной функции с определенным ненулевым коэффициентом наклона\n",
    "и чем больше $\\alpha$, тем меньше коэффициент наклона и тем функция ближе к константе\n",
    "$\\lim\\limits_{\\alpha \\to \\infty}\\frac{x^{-1}+\\alpha^{-1}}{x^{-1}}=1$ (желтый и фиолетовый графики)"
   ],
   "metadata": {
    "collapsed": false,
    "pycharm": {
     "name": "#%% md\n"
    }
   }
  },
  {
   "cell_type": "markdown",
   "source": [
    "## Задача №3"
   ],
   "metadata": {
    "collapsed": false,
    "pycharm": {
     "name": "#%% md\n",
     "is_executing": false
    }
   }
  },
  {
   "cell_type": "code",
   "execution_count": 6,
   "outputs": [],
   "source": [
    "x = np.ma.masked_equal(np.arange(-4,4,0.01),0)\n",
    "y1 = np.ma.masked_greater(f(x)(1,0.5),4)\n",
    "y2 = np.ma.masked_greater(f(x)(1,-0.5),4)\n",
    "y3 = np.ma.masked_greater(f(x)(1,-1.5),4)\n",
    "\n",
    "\n",
    "fig, ax = plt.subplots(figsize=(10,10))\n",
    "ax.plot(x,y1, y1_c, label=r'$\\alpha=1,\\beta=0.5$') \n",
    "ax.plot(x,y2, y2_c, label=r'$\\alpha=1,\\beta=-0.5$')\n",
    "ax.plot(x,y3, y3_c, label=r'$\\alpha=1,\\beta=-1.5$')\n",
    "ax.set_title(r'График функции $f(x)=\\frac{x^\\beta+\\alpha^\\beta}{x^\\beta}$ при различных $\\alpha$ и $\\beta$', fontsize=18)\n",
    "ax.set_xlabel('$x$', fontsize=18)\n",
    "ax.set_ylabel('$f(x)$', fontsize=18)\n",
    "ax.grid()\n",
    "ax.legend()\n",
    "ax.yaxis.set_minor_locator(AutoMinorLocator())\n",
    "# plt.savefig('fig5.svg')\n",
    "plt.show()\n"
   ],
   "metadata": {
    "collapsed": false,
    "pycharm": {
     "name": "#%%\n",
     "is_executing": false
    }
   }
  },
  {
   "cell_type": "markdown",
   "source": [
    "### Выводы\n",
    "* при уменьшении $\\beta$ от положительного значения к 0 вогнутость функции уменьшается,\n",
    "и при $\\beta=0$ производная равна нулю, т.е функция становится линейной с нулевым коэффициентом наклона т.е. константой\n",
    "* при изменении $\\beta$ от 0 к -0.5 функция начинает становиться выпуклой и до $\\beta=-0.5$ выпуклость растет,\n",
    "  затем от -0.5 до -1 выпуклость функции уменьшается и при $\\beta=-1$ вторая производная становится равной нулю,\n",
    "  т.е. функция принимает линейный вид с определенным коэффициентом наклона\n",
    "* при дальнейшем уменьшении $\\beta$ от -1 функция вновь становится вогнутой и чем меньше $\\beta$ тем более вогнутой становится функция\n",
    "* Все графики с $\\alpha=1$ проходят через общую точку (1,2)"
   ],
   "metadata": {
    "collapsed": false
   }
  },
  {
   "cell_type": "markdown",
   "source": [
    "## Задача №4"
   ],
   "metadata": {
    "collapsed": false
   }
  },
  {
   "cell_type": "code",
   "execution_count": 7,
   "outputs": [],
   "source": [
    "fig, axes = plt.subplots(1, 3,figsize=(15,5))\n",
    "par = ((0.5,0.8),(-0.5,-0.8),(-1.5,-2.5))\n",
    "\n",
    "x = np.ma.masked_equal(np.arange(0,4,0.01),0)\n",
    "y1 = np.ma.masked_greater(f(x)(1,0),4)\n",
    "y2 = np.ma.masked_greater(f(x)(1,-1),4)\n",
    "for i, ax in enumerate(axes):    \n",
    "    y3 = np.ma.masked_greater(f(x)(1,par[i][0]),4)\n",
    "    y4 = np.ma.masked_greater(f(x)(1,par[i][1]),4)\n",
    "    ax.plot(x,y1, 'b--', label=r'$\\alpha=1,\\beta=0$')\n",
    "    ax.plot(x,y2, 'r--', label=r'$\\alpha=1,\\beta=-1$')\n",
    "    ax.plot(x,y3, 'g', label=f'$\\\\alpha=1,\\\\beta={par[i][0]}$')\n",
    "    ax.plot(x,y4, 'm', label=f'$\\\\alpha=1,\\\\beta={par[i][1]}$')\n",
    "    ax.set_xlabel('$x$', fontsize=18)\n",
    "    ax.set_ylabel('$f(x)$', fontsize=18)\n",
    "    ax.legend()\n",
    "    ax.grid()\n",
    "    ax.yaxis.set_minor_locator(AutoMinorLocator())\n",
    "fig.suptitle(r'График функции $f(x)=\\frac{x^\\beta+\\alpha^\\beta}{x^\\beta}$ при различных $\\alpha$ и $\\beta$', fontsize=18)\n",
    "# plt.savefig('fig6.svg')\n",
    "plt.show()"
   ],
   "metadata": {
    "collapsed": false,
    "pycharm": {
     "name": "#%%\n",
     "is_executing": false
    }
   }
  },
  {
   "cell_type": "markdown",
   "source": [
    "### Выводы\n",
    "* данные графики подтверждают выводы сделанные в предыдущей задаче:\n",
    "* первый график показывает, что при уменьшении $\\beta$ от положительного значения к 0\n",
    "вогнутость функции уменьшается и при $\\beta=0$ вогнутость исчезает функция принимает вид линейной\n",
    "без наклона, т.е. константа.\n",
    "* на втором графике видно, что при уменьшении $\\beta$ от -0.5 к -1 выпуклость уменьшается и при $\\beta=-1$ выпуклость исчезает\n",
    "фукция становится линейной.\n",
    "* на третьем графике видно, что при дальнейшем уменьшении $\\beta$ функция становится вогнутой, и чем меньше $\\beta$ тем \n",
    "более вогнутой становится функция \n"
   ],
   "metadata": {
    "collapsed": false
   }
  }
 ],
 "metadata": {
  "kernelspec": {
   "display_name": "Python 3",
   "language": "python",
   "name": "python3"
  },
  "language_info": {
   "codemirror_mode": {
    "name": "ipython",
    "version": 2
   },
   "file_extension": ".py",
   "mimetype": "text/x-python",
   "name": "python",
   "nbconvert_exporter": "python",
   "pygments_lexer": "ipython2",
   "version": "2.7.6"
  },
  "pycharm": {
   "stem_cell": {
    "cell_type": "raw",
    "source": [],
    "metadata": {
     "collapsed": false
    }
   }
  }
 },
 "nbformat": 4,
 "nbformat_minor": 0
}